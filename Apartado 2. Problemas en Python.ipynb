{
 "cells": [
  {
   "cell_type": "markdown",
   "id": "be9e65f3-aafb-4dbc-87c8-a96e1cae3766",
   "metadata": {},
   "source": [
    "<h3>Problema 1. División de una lista de enteros</h3>"
   ]
  },
  {
   "cell_type": "markdown",
   "id": "2697d9e6-f15d-417a-b745-45b7d76ec1a9",
   "metadata": {},
   "source": [
    " <p>\n",
    "        Escribe una función que reciba por parámetro una lista de enteros y devuelva dos listas: una con los valores negativos que tuviera y otra con los positivos. <br>Ambas listas deben estar ordenadas ascendentemente.\n",
    "    </p>"
   ]
  },
  {
   "cell_type": "code",
   "execution_count": 73,
   "id": "de9f154b-d245-4d66-ad4e-b32da44d1bab",
   "metadata": {},
   "outputs": [
    {
     "name": "stdout",
     "output_type": "stream",
     "text": [
      "Positivos: 1, 2, 3, 5, 8, 11, 15, 83\n",
      "Negativos: -97, -95, -88, -42, -13, -12, -9, -7\n"
     ]
    }
   ],
   "source": [
    "listValues = [3, -12, -9, 1, 8, -95, 5, -7, 2, -13, -88, 11, 83, -42, 15, -97]\n",
    "\n",
    "def getValues(listExample):\n",
    "    listPositives = sorted([num for num in listExample if num > 0])  # Filtrar positivos\n",
    "    listNegatives = sorted([num for num in listExample if num < 0])  # Filtrar negativos\n",
    "\n",
    "    print(\"Positivos:\", \", \".join(map(str, listPositives)))\n",
    "    print(\"Negativos:\", \", \".join(map(str, listNegatives)))\n",
    "\n",
    "getValues(listValues)"
   ]
  },
  {
   "cell_type": "markdown",
   "id": "63cd832e-2ebb-4c7a-b799-5e228ebd3cbe",
   "metadata": {},
   "source": [
    "<h3>Problema 2. Frecuencia de palabras en un texto</h3>"
   ]
  },
  {
   "cell_type": "markdown",
   "id": "0ffcdfe2-ad16-401e-adb6-689865ece9bf",
   "metadata": {},
   "source": [
    "<p>\n",
    "        Escribe un programa que pida al usuario ingresar una frase o párrafo. Luego, el programa debe contar cuántas veces aparece cada palabra en el texto y mostrar las palabras junto con su frecuencia.\n",
    "    </p>\n",
    "    <h3>Requisitos:</h3>\n",
    "    <ul>\n",
    "        <li>Eliminar los signos de puntuación y convertir todas las palabras a minúsculas para evitar diferencias.</li>\n",
    "        <li>Usar un diccionario donde la clave sea la palabra y el valor sea su frecuencia.</li>\n",
    "        <li>Mostrar las palabras y sus frecuencias de forma ordenada por la palabra.</li>\n",
    "    </ul>"
   ]
  },
  {
   "cell_type": "code",
   "execution_count": 3,
   "id": "871f7ea7-5444-4c4b-a326-49cc1df3f57e",
   "metadata": {},
   "outputs": [
    {
     "name": "stdin",
     "output_type": "stream",
     "text": [
      "Ingresa una frase o párrafo:  Hola mundo Hola HOLA mUNDO . HOLa.\n"
     ]
    },
    {
     "name": "stdout",
     "output_type": "stream",
     "text": [
      "Frecuencia de palabras: {'hola': 4, 'mundo': 2}\n"
     ]
    }
   ],
   "source": [
    "import re\n",
    "\n",
    "texto_usuario = input(\"Ingresa una frase o párrafo: \")\n",
    "\n",
    "def extraer_palabras(texto_usuario):\n",
    "    texto_sin_puntuacion = re.sub(r'[^\\w\\s]', '', texto_usuario)\n",
    "    lista_palabras = (texto_sin_puntuacion.lower()).split()\n",
    "    lista_ordenada = sorted(lista_palabras)\n",
    "    \n",
    "    conteo = {}  \n",
    "  \n",
    "    for palabra in lista_ordenada:\n",
    "        if palabra in conteo:\n",
    "            conteo[palabra] += 1  \n",
    "        else:\n",
    "            conteo[palabra] = 1  \n",
    "\n",
    "    return conteo\n",
    "\n",
    "resultado = extraer_palabras(texto_usuario)\n",
    "print(\"Frecuencia de palabras:\", resultado)\n",
    "\n"
   ]
  },
  {
   "cell_type": "markdown",
   "id": "d2fe984f-d60b-4047-872f-8040054d1dbd",
   "metadata": {},
   "source": [
    "<h3>Problema 3. Intersección y unión de conjuntos </h3>"
   ]
  },
  {
   "cell_type": "markdown",
   "id": "54d310da-73e2-4d08-aec8-3a2b240cd025",
   "metadata": {},
   "source": [
    "<p>Escribe un programa que permita al usuario crear dos conjuntos de números\n",
    "enteros. Luego, el programa debe calcular y mostrar:\n",
    "<br>1. La intersección de ambos conjuntos (elementos comunes).\n",
    "<br>2. La unión de ambos conjuntos (todos los elementos sin duplicados).\n",
    "<br>3. La diferencia simétrica (elementos que están en uno u otro conjunto,\n",
    "pero no en ambos). </p>"
   ]
  },
  {
   "cell_type": "code",
   "execution_count": 33,
   "id": "71b42915-3ad3-4c7f-94fc-3c91f454ffe5",
   "metadata": {},
   "outputs": [
    {
     "name": "stdin",
     "output_type": "stream",
     "text": [
      "Ingresa los números enteros para el primer conjunto (separados por espacios):  1 2 3 5 8\n"
     ]
    },
    {
     "name": "stdout",
     "output_type": "stream",
     "text": [
      "['1', '2', '3', '5', '8']\n"
     ]
    },
    {
     "name": "stdin",
     "output_type": "stream",
     "text": [
      "Ingresa los números enteros para el segundo conjunto (separados por espacios):  2 3 8\n"
     ]
    },
    {
     "name": "stdout",
     "output_type": "stream",
     "text": [
      "['2', '3', '8']\n",
      "Elementos comunes: ['2', '3', '8']\n",
      "Elementos sin duplicados: ['1', '2', '3', '5', '8']\n",
      "Elementos diferencia simetrica: ['1', '5']\n"
     ]
    }
   ],
   "source": [
    "texto_uno = input(\"Ingresa los números enteros para el primer conjunto (separados por espacios): \")\n",
    "conjunto_uno = texto_uno.split()\n",
    "print(conjunto_uno)\n",
    "\n",
    "texto_dos = input(\"Ingresa los números enteros para el segundo conjunto (separados por espacios): \")\n",
    "conjunto_dos = texto_dos.split()\n",
    "print(conjunto_dos)\n",
    "\n",
    "def elementos_comunes(conjunto_uno, conjunto_dos):\n",
    "    lista_elementos_comunes = set()  #Almacena los elementos únicos y evita los duplicados\n",
    "    for numero_uno in conjunto_uno:\n",
    "        for numero_dos in conjunto_dos:\n",
    "            if numero_uno == numero_dos and numero_uno not in lista_elementos_comunes:\n",
    "                lista_elementos_comunes.add(numero_uno)\n",
    "    return sorted(list(lista_elementos_comunes))\n",
    "\n",
    "def elementos_sin_duplicados(conjunto_uno, conjunto_dos):\n",
    "    lista_conjuntos_unidos = conjunto_uno + conjunto_dos\n",
    "    lista_elementos_unicos = set()  #Almacena los elementos únicos y evita los duplicados\n",
    "    for conjunto_index in lista_conjuntos_unidos:\n",
    "        if conjunto_index not in lista_elementos_unicos:\n",
    "               lista_elementos_unicos.add(conjunto_index)\n",
    "    return sorted(list(lista_elementos_unicos))\n",
    "\n",
    "def elementos_diferencia_simetrica(conjunto_uno, conjunto_dos):\n",
    "    lista_elementos_simetrica = set()  #Almacena los elementos únicos y evita los duplicados\n",
    "    for numero_uno in conjunto_uno:\n",
    "        if numero_uno not in conjunto_dos:\n",
    "            lista_elementos_simetrica.add(numero_uno)       \n",
    "    for numero_dos in conjunto_dos:\n",
    "        if numero_dos not in conjunto_uno:\n",
    "            lista_elementos_simetrica.add(numero_dos)\n",
    "    return sorted(list(lista_elementos_simetrica))\n",
    "\n",
    "resultado_elementos_comunes = elementos_comunes(conjunto_uno, conjunto_dos)\n",
    "print('Elementos comunes:', resultado_elementos_comunes)\n",
    "\n",
    "resultado_elementos_sin_duplicados = elementos_sin_duplicados(conjunto_uno, conjunto_dos)\n",
    "print('Elementos sin duplicados:', resultado_elementos_sin_duplicados)\n",
    "\n",
    "resultado_elementos_diferencia_simetrica = elementos_diferencia_simetrica(conjunto_uno, conjunto_dos)\n",
    "print('Elementos diferencia simetrica:', resultado_elementos_diferencia_simetrica)\n",
    "\n"
   ]
  }
 ],
 "metadata": {
  "kernelspec": {
   "display_name": "Python 3 (ipykernel)",
   "language": "python",
   "name": "python3"
  },
  "language_info": {
   "codemirror_mode": {
    "name": "ipython",
    "version": 3
   },
   "file_extension": ".py",
   "mimetype": "text/x-python",
   "name": "python",
   "nbconvert_exporter": "python",
   "pygments_lexer": "ipython3",
   "version": "3.12.4"
  }
 },
 "nbformat": 4,
 "nbformat_minor": 5
}
